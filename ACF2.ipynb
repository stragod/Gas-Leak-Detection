{
 "cells": [
  {
   "cell_type": "code",
   "execution_count": 5,
   "metadata": {},
   "outputs": [],
   "source": [
    "#Importing the libraries\n",
    "import pandas as pd\n",
    "from sklearn import preprocessing\n",
    "from sklearn.preprocessing import StandardScaler\n",
    "from sklearn.naive_bayes import GaussianNB\n",
    "from sklearn import metrics\n",
    "import seaborn as sb\n",
    "import numpy as np\n",
    "from  sklearn.model_selection import train_test_split\n",
    "import matplotlib.pyplot as plt"
   ]
  },
  {
   "cell_type": "code",
   "execution_count": 6,
   "metadata": {},
   "outputs": [],
   "source": [
    "#Loading the file\n",
    "df = pd.read_excel(r'D:\\Books\\Project\\Draft1_fabien\\leak-exp-day2\\Exact\\release2a.xlsx')\n",
    "s1 = df.iloc[:,0]\n",
    "s2 = df.iloc[:,1]\n",
    "s3 = df.iloc[:,2]\n",
    "s4 = df.iloc[:,3]\n",
    "s5 = df.iloc[:,4]\n",
    "s6 = df.iloc[:,5]\n",
    "s7 = df.iloc[:,6]\n",
    "s8 = df.iloc[:,7]\n",
    "s9 = df.iloc[:,8]\n",
    "s10 = df.iloc[:,9]\n",
    "s11 = df.iloc[:,10]\n",
    "s12 = df.iloc[:,11]\n",
    "s13 = df.iloc[:,12]\n",
    "s14 = df.iloc[:,13]\n",
    "s15 = df.iloc[:,14]\n",
    "s16 = df.iloc[:,15]\n",
    "s17 = df.iloc[:,16]\n",
    "s18 = df.iloc[:,17]\n",
    "s19 = df.iloc[:,18]\n",
    "s20 = df.iloc[:,19]\n",
    "status = df.iloc[:,20] "
   ]
  },
  {
   "cell_type": "code",
   "execution_count": 7,
   "metadata": {},
   "outputs": [],
   "source": [
    "#encoding for naive bayes\n",
    "le = preprocessing.LabelEncoder()\n",
    "s1_en = le.fit_transform(s1)\n",
    "s2_en = le.fit_transform(s2)\n",
    "s3_en = le.fit_transform(s3)\n",
    "s4_en = le.fit_transform(s4)\n",
    "s5_en = le.fit_transform(s5)\n",
    "s6_en = le.fit_transform(s6)\n",
    "s7_en = le.fit_transform(s7)\n",
    "s8_en = le.fit_transform(s8)\n",
    "s9_en = le.fit_transform(s9)\n",
    "s10_en = le.fit_transform(s10)\n",
    "s11_en = le.fit_transform(s11)\n",
    "s12_en = le.fit_transform(s12)\n",
    "s13_en = le.fit_transform(s13)\n",
    "s14_en = le.fit_transform(s14)\n",
    "s15_en = le.fit_transform(s15)\n",
    "s16_en = le.fit_transform(s16)\n",
    "s17_en = le.fit_transform(s17)\n",
    "s18_en = le.fit_transform(s18)\n",
    "s19_en = le.fit_transform(s19)\n",
    "s20_en = le.fit_transform(s20)\n",
    "label = le.fit_transform(status)"
   ]
  },
  {
   "cell_type": "code",
   "execution_count": 8,
   "metadata": {},
   "outputs": [],
   "source": [
    "#creating features and labels\n",
    "n_features =list(zip(s1_en,s2_en,s3_en,s4_en,s5_en,s6_en,s7_en,s8_en,s9_en,s10_en,s11_en,s12_en,s13_en,s14_en,s15_en,s16_en,s17_en,s18_en,s19_en,s20_en))\n",
    "n_samples = label"
   ]
  },
  {
   "cell_type": "code",
   "execution_count": 9,
   "metadata": {},
   "outputs": [
    {
     "name": "stdout",
     "output_type": "stream",
     "text": [
      "Accuracy: 85.27918781725889\n"
     ]
    }
   ],
   "source": [
    "#naive bayes\n",
    "X_train, X_test, y_train, y_test = train_test_split(n_features,n_samples, test_size=0.5,random_state=0)\n",
    "#standradisation of the train model\n",
    "sc = StandardScaler()\n",
    "X_train_std = sc.fit_transform(X_train)\n",
    "X_test_std = sc.fit_transform(X_test)\n",
    "#creation of model\n",
    "model = GaussianNB()\n",
    "model.fit(X_train_std,y_train)\n",
    "y_pred = model.predict(X_test)\n",
    "print(\"Accuracy:\",100*metrics.accuracy_score(y_test, y_pred))\n"
   ]
  },
  {
   "cell_type": "code",
   "execution_count": 11,
   "metadata": {},
   "outputs": [
    {
     "name": "stdout",
     "output_type": "stream",
     "text": [
      "58 / 394\n"
     ]
    }
   ],
   "source": [
    "#False prediction\n",
    "print((y_test != y_pred).sum(),'/',((y_test==y_pred).sum()+(y_test != y_pred).sum()))"
   ]
  },
  {
   "cell_type": "code",
   "execution_count": null,
   "metadata": {},
   "outputs": [],
   "source": []
  }
 ],
 "metadata": {
  "kernelspec": {
   "display_name": "Python 3 (ipykernel)",
   "language": "python",
   "name": "python3"
  },
  "language_info": {
   "codemirror_mode": {
    "name": "ipython",
    "version": 3
   },
   "file_extension": ".py",
   "mimetype": "text/x-python",
   "name": "python",
   "nbconvert_exporter": "python",
   "pygments_lexer": "ipython3",
   "version": "3.9.7"
  }
 },
 "nbformat": 4,
 "nbformat_minor": 4
}
