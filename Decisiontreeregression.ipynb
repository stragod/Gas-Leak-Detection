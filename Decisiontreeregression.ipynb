{
 "cells": [
  {
   "cell_type": "code",
   "execution_count": 15,
   "metadata": {},
   "outputs": [],
   "source": [
    "import pandas as pd\n",
    "from sklearn import tree\n",
    "from  sklearn.model_selection import train_test_split\n",
    "from sklearn import metrics\n",
    "from sklearn.preprocessing import StandardScaler\n",
    "import matplotlib.pyplot as plt"
   ]
  },
  {
   "cell_type": "code",
   "execution_count": 16,
   "metadata": {},
   "outputs": [],
   "source": [
    "#Loading the file\n",
    "df = pd.read_excel(r'D:\\Books\\Project\\Draft1_fabien\\leak-exp-day2\\Exact\\release2a.xlsx')\n",
    "s1 = df.iloc[:,0]\n",
    "s2 = df.iloc[:,1]\n",
    "s3 = df.iloc[:,2]\n",
    "s4 = df.iloc[:,3]\n",
    "s5 = df.iloc[:,4]\n",
    "s6 = df.iloc[:,5]\n",
    "s7 = df.iloc[:,6]\n",
    "s8 = df.iloc[:,7]\n",
    "s9 = df.iloc[:,8]\n",
    "s10 = df.iloc[:,9]\n",
    "s11 = df.iloc[:,10]\n",
    "s12 = df.iloc[:,11]\n",
    "s13 = df.iloc[:,12]\n",
    "s14 = df.iloc[:,13]\n",
    "s15 = df.iloc[:,14]\n",
    "s16 = df.iloc[:,15]\n",
    "s17 = df.iloc[:,16]\n",
    "s18 = df.iloc[:,17]\n",
    "s19 = df.iloc[:,18]\n",
    "s20 = df.iloc[:,19]\n",
    "status = df.iloc[:,20] "
   ]
  },
  {
   "cell_type": "code",
   "execution_count": 17,
   "metadata": {},
   "outputs": [],
   "source": [
    "#creating features and labels\n",
    "n_features = list(zip(s1,s2,s3,s4,s5,s6,s7,s8,s9,s10,s11,s12,s13,s14,s15,s16,s17,s18,s19,s20))\n",
    "n_samples = status"
   ]
  },
  {
   "cell_type": "code",
   "execution_count": 20,
   "metadata": {},
   "outputs": [
    {
     "name": "stdout",
     "output_type": "stream",
     "text": [
      "percentage Accuracy: 95.17766497461929\n"
     ]
    }
   ],
   "source": [
    "#Decision tree  regression\n",
    "clf = tree.DecisionTreeRegressor()\n",
    "#spliting of data\n",
    "X_train, X_test, y_train, y_test = train_test_split(n_features,n_samples, test_size=0.5,random_state=0)\n",
    "sc = StandardScaler()\n",
    "X_train_std = sc.fit_transform(X_train)\n",
    "X_test_std = sc.fit_transform(X_test)\n",
    "#train model\n",
    "clf.fit(X_train,y_train)\n",
    "#prediction\n",
    "y_pred = clf.predict(X_test_std)\n",
    "print('percentage Accuracy:',100*metrics.accuracy_score(y_test,y_pred))\n",
    "\n"
   ]
  },
  {
   "cell_type": "code",
   "execution_count": 21,
   "metadata": {},
   "outputs": [
    {
     "name": "stdout",
     "output_type": "stream",
     "text": [
      "19 / 394\n"
     ]
    }
   ],
   "source": [
    "#false prediction\n",
    "print((y_test != y_pred).sum(),'/',((y_test==y_pred).sum()+(y_test != y_pred).sum()))"
   ]
  },
  {
   "cell_type": "raw",
   "metadata": {},
   "source": []
  }
 ],
 "metadata": {
  "kernelspec": {
   "display_name": "Python 3 (ipykernel)",
   "language": "python",
   "name": "python3"
  },
  "language_info": {
   "codemirror_mode": {
    "name": "ipython",
    "version": 3
   },
   "file_extension": ".py",
   "mimetype": "text/x-python",
   "name": "python",
   "nbconvert_exporter": "python",
   "pygments_lexer": "ipython3",
   "version": "3.9.7"
  }
 },
 "nbformat": 4,
 "nbformat_minor": 4
}
