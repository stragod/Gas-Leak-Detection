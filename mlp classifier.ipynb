{
 "cells": [
  {
   "cell_type": "code",
   "execution_count": 1,
   "metadata": {},
   "outputs": [],
   "source": [
    "from sklearn.metrics import classification_report\n",
    "from sklearn.neural_network import MLPClassifier\n",
    "from sklearn.metrics import mean_squared_error,max_error,mean_absolute_error\n",
    "import pandas as pd\n",
    "import glob\n",
    "from  sklearn.model_selection import train_test_split\n",
    "from sklearn import metrics"
   ]
  },
  {
   "cell_type": "code",
   "execution_count": 2,
   "metadata": {},
   "outputs": [],
   "source": [
    "all_data = pd.DataFrame()\n",
    "for f in glob.glob(r\"D:\\Books\\Project\\Draft1_fabien\\leak-exp-day2\\Exact\\release*.xlsx\"):\n",
    "    df = pd.read_excel(f)\n",
    "    all_data = all_data.append(df,ignore_index=True)\n",
    "\n",
    "    \n",
    "s1 = all_data['123'].values[:]\n",
    "s2 = all_data['134'].values[:]\n",
    "s3 = all_data['157'].values[:]\n",
    "s4 = all_data['173'].values[:]\n",
    "s5 = all_data['193'].values[:]\n",
    "s6 = all_data['210'].values[:]\n",
    "s7 = all_data['215'].values[:]\n",
    "s8 = all_data['238'].values[:]\n",
    "s9 = all_data['250'].values[:]\n",
    "s10 = all_data['280'].values[:]\n",
    "s11 = all_data['291'].values[:]\n",
    "s12 = all_data['330'].values[:]\n",
    "s13 = all_data['337'].values[:]\n",
    "s14 = all_data['342'].values[:]\n",
    "s15 = all_data['364'].values[:]\n",
    "s16 = all_data['370'].values[:]\n",
    "s17 = all_data['374'].values[:]\n",
    "s18 = all_data['381'].values[:]\n",
    "s19 = all_data['385'].values[:]\n",
    "s20 = all_data['195'].values[:]\n",
    "leak_status = all_data['Leakage_Status'].values[:]"
   ]
  },
  {
   "cell_type": "code",
   "execution_count": 3,
   "metadata": {},
   "outputs": [],
   "source": [
    "n_features = list(zip(s1,s2,s3,s4,s5,s6,s7,s8,s9,s10,s11,s12,s13,s14,s15,s16,s17,s18,s19,s20))\n",
    "n_samples = leak_status"
   ]
  },
  {
   "cell_type": "code",
   "execution_count": 6,
   "metadata": {},
   "outputs": [
    {
     "name": "stdout",
     "output_type": "stream",
     "text": [
      "Accuracy of MLPClassifier :80.538\n"
     ]
    }
   ],
   "source": [
    "X_ML_train, X_ML_test, y_ML_train, y_ML_test = train_test_split(n_features,n_samples, test_size=0.5,random_state=0)\n",
    "classifier = MLPClassifier(hidden_layer_sizes=(1000,200,200), max_iter=20000,activation = 'tanh',solver='adam',random_state=1)\n",
    "classifier.fit(X_ML_train,y_ML_train)\n",
    "y_ML_pred = classifier.predict(X_ML_test)\n",
    "print(\"Accuracy of MLPClassifier :%.3f\"%(100*metrics.accuracy_score(y_ML_test,y_ML_pred)))\n",
    "#print(\"finish\")"
   ]
  },
  {
   "cell_type": "code",
   "execution_count": 5,
   "metadata": {},
   "outputs": [
    {
     "ename": "NameError",
     "evalue": "name 'y_MLP_test' is not defined",
     "output_type": "error",
     "traceback": [
      "\u001b[1;31m---------------------------------------------------------------------------\u001b[0m",
      "\u001b[1;31mNameError\u001b[0m                                 Traceback (most recent call last)",
      "\u001b[1;32m<ipython-input-5-f6e024fba86c>\u001b[0m in \u001b[0;36m<module>\u001b[1;34m\u001b[0m\n\u001b[1;32m----> 1\u001b[1;33m \u001b[0mprint\u001b[0m\u001b[1;33m(\u001b[0m\u001b[0mclassification_report\u001b[0m\u001b[1;33m(\u001b[0m\u001b[0my_MLP_test\u001b[0m\u001b[1;33m,\u001b[0m \u001b[0my_MLP_pred\u001b[0m\u001b[1;33m.\u001b[0m\u001b[0mround\u001b[0m\u001b[1;33m(\u001b[0m\u001b[1;33m)\u001b[0m\u001b[1;33m,\u001b[0m \u001b[0mtarget_names\u001b[0m\u001b[1;33m=\u001b[0m\u001b[0mtarget_names\u001b[0m\u001b[1;33m)\u001b[0m\u001b[1;33m)\u001b[0m\u001b[1;33m\u001b[0m\u001b[1;33m\u001b[0m\u001b[0m\n\u001b[0m",
      "\u001b[1;31mNameError\u001b[0m: name 'y_MLP_test' is not defined"
     ]
    }
   ],
   "source": [
    "print(classification_report(y_ML_test, y_ML_pred.round(), target_names=target_names))"
   ]
  }
 ],
 "metadata": {
  "kernelspec": {
   "display_name": "Python 3",
   "language": "python",
   "name": "python3"
  },
  "language_info": {
   "codemirror_mode": {
    "name": "ipython",
    "version": 3
   },
   "file_extension": ".py",
   "mimetype": "text/x-python",
   "name": "python",
   "nbconvert_exporter": "python",
   "pygments_lexer": "ipython3",
   "version": "3.7.4"
  }
 },
 "nbformat": 4,
 "nbformat_minor": 2
}
