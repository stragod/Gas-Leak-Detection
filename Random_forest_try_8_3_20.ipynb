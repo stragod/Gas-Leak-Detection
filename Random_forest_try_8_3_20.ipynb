{
 "cells": [
  {
   "cell_type": "code",
   "execution_count": 6,
   "metadata": {},
   "outputs": [],
   "source": [
    "import pandas as pd\n",
    "import numpy as np\n",
    "from sklearn.model_selection import train_test_split\n",
    "from sklearn.ensemble import RandomForestClassifier"
   ]
  },
  {
   "cell_type": "code",
   "execution_count": 7,
   "metadata": {},
   "outputs": [],
   "source": [
    "#Loading the file\n",
    "df = pd.read_excel(r'PATH IN WHICH DATA IS STORED')\n",
    "s1 = df.iloc[:,0]\n",
    "s2 = df.iloc[:,1]\n",
    "s3 = df.iloc[:,2]\n",
    "s4 = df.iloc[:,3]\n",
    "s5 = df.iloc[:,4]\n",
    "s6 = df.iloc[:,5]\n",
    "s7 = df.iloc[:,6]\n",
    "s8 = df.iloc[:,7]\n",
    "s9 = df.iloc[:,8]\n",
    "s10 = df.iloc[:,9]\n",
    "s11 = df.iloc[:,10]\n",
    "s12 = df.iloc[:,11]\n",
    "s13 = df.iloc[:,12]\n",
    "s14 = df.iloc[:,13]\n",
    "s15 = df.iloc[:,14]\n",
    "s16 = df.iloc[:,15]\n",
    "s17 = df.iloc[:,16]\n",
    "s18 = df.iloc[:,17]\n",
    "s19 = df.iloc[:,18]\n",
    "s20 = df.iloc[:,19]\n",
    "status = df.iloc[:,20] "
   ]
  },
  {
   "cell_type": "code",
   "execution_count": 8,
   "metadata": {},
   "outputs": [],
   "source": [
    "n_features = list(zip(s1,s2,s3,s4,s5,s6,s7,s8,s9,s10,s11,s12,s13,s14,s15,s16,s17,s18,s19,s20))\n",
    "n_samples = status"
   ]
  },
  {
   "cell_type": "code",
   "execution_count": 9,
   "metadata": {},
   "outputs": [],
   "source": [
    "RSEED = 50\n",
    "train, test, train_labels, test_labels = train_test_split(n_features,n_samples, test_size=0.3,random_state=RSEED)"
   ]
  },
  {
   "cell_type": "code",
   "execution_count": 12,
   "metadata": {},
   "outputs": [
    {
     "name": "stderr",
     "output_type": "stream",
     "text": [
      "[Parallel(n_jobs=-1)]: Using backend ThreadingBackend with 8 concurrent workers.\n",
      "[Parallel(n_jobs=-1)]: Done  34 tasks      | elapsed:    0.0s\n",
      "[Parallel(n_jobs=-1)]: Done 100 out of 100 | elapsed:    0.1s finished\n"
     ]
    },
    {
     "data": {
      "text/plain": [
       "RandomForestClassifier(bootstrap=True, class_weight=None, criterion='gini',\n",
       "                       max_depth=None, max_features='sqrt', max_leaf_nodes=None,\n",
       "                       min_impurity_decrease=0.0, min_impurity_split=None,\n",
       "                       min_samples_leaf=1, min_samples_split=2,\n",
       "                       min_weight_fraction_leaf=0.0, n_estimators=100,\n",
       "                       n_jobs=-1, oob_score=False, random_state=50, verbose=1,\n",
       "                       warm_start=False)"
      ]
     },
     "execution_count": 12,
     "metadata": {},
     "output_type": "execute_result"
    }
   ],
   "source": [
    "#model devlopment\n",
    "model = RandomForestClassifier(n_estimators=100, \n",
    "                               random_state=RSEED, \n",
    "                               max_features = 'sqrt',\n",
    "                               n_jobs=-1, verbose = 1)\n",
    "\n",
    "# Fit on training data\n",
    "model.fit(train, train_labels)"
   ]
  },
  {
   "cell_type": "code",
   "execution_count": null,
   "metadata": {},
   "outputs": [],
   "source": []
  }
 ],
 "metadata": {
  "kernelspec": {
   "display_name": "Python 3",
   "language": "python",
   "name": "python3"
  },
  "language_info": {
   "codemirror_mode": {
    "name": "ipython",
    "version": 3
   },
   "file_extension": ".py",
   "mimetype": "text/x-python",
   "name": "python",
   "nbconvert_exporter": "python",
   "pygments_lexer": "ipython3",
   "version": "3.7.4"
  }
 },
 "nbformat": 4,
 "nbformat_minor": 2
}
